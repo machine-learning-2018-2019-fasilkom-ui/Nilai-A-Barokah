{
 "cells": [
  {
   "cell_type": "markdown",
   "metadata": {
    "deletable": false,
    "editable": true
   },
   "source": [
    "# Tugas Akhir Machine Learning\n",
    "## Nilai A Barokah \n"
   ]
  },
  {
   "cell_type": "markdown",
   "metadata": {},
   "source": [
    "### 1. Data"
   ]
  },
  {
   "cell_type": "markdown",
   "metadata": {},
   "source": [
    "#### Preprocessing Data"
   ]
  },
  {
   "cell_type": "code",
   "execution_count": 2,
   "metadata": {},
   "outputs": [
    {
     "name": "stdout",
     "output_type": "stream",
     "text": [
      "(140707, 78)\n"
     ]
    }
   ],
   "source": [
    "import random\n",
    "import numpy as np\n",
    "import pandas as pd\n",
    "\n",
    "original_fitur_name = ['ncd', 'ai', 'as_na', 'bl', 'nac', 'as_nac', 'cs', 'at', 'na', 'adl', 'nad']\n",
    "days = [0, 1, 2, 3, 4, 5, 6]\n",
    "name = []\n",
    "\n",
    "# generate attribute name\n",
    "for i in range(len(original_fitur_name)):\n",
    "    for j in range(len(days)):\n",
    "        name.append(original_fitur_name[i]+\"_\"+str(days[j]))\n",
    "name.append('y')        \n",
    "twitter_data = pd.read_csv('data.csv', skiprows=[], index_col=False, names = name)\n",
    "\n",
    "print(twitter_data.shape)\n",
    "#help(pd.read_csv)\n"
   ]
  },
  {
   "cell_type": "code",
   "execution_count": 3,
   "metadata": {},
   "outputs": [
    {
     "name": "stdout",
     "output_type": "stream",
     "text": [
      "   ncd_0  ncd_1  ncd_2  ncd_3  ncd_4  ncd_5  ncd_6  ai_0  ai_1  ai_2 ...   \\\n",
      "0    889    939    960    805    805   1143   1121   549   613   587 ...    \n",
      "1    542    473    504    626    647    795    832   366   288   318 ...    \n",
      "2     92     99    196    100    184     79    162    66    59   118 ...    \n",
      "3     90     87     92    344    184    848    184    83    78    76 ...    \n",
      "4    169     98    101     90     96     95    185   141    68    85 ...    \n",
      "\n",
      "   adl_5  adl_6  nad_0  nad_1  nad_2  nad_3  nad_4  nad_5  nad_6    y  \n",
      "0    1.0    1.0    889    939    960    805    805   1143   1121  1.0  \n",
      "1    1.0    1.0    542    473    504    626    647    795    832  1.0  \n",
      "2    1.0    1.0     92     99    196    100    184     79    162  0.0  \n",
      "3    1.0    1.0     90     87     92    344    184    848    184  1.0  \n",
      "4    1.0    1.0    169     98    101     90     96     95    185  1.0  \n",
      "\n",
      "[5 rows x 78 columns]\n"
     ]
    }
   ],
   "source": [
    "#print(twitter_data.iloc[0])\n",
    "\n",
    "print(twitter_data.head(5))"
   ]
  },
  {
   "cell_type": "code",
   "execution_count": 4,
   "metadata": {},
   "outputs": [],
   "source": [
    "from pydoc import help\n",
    "from scipy.stats.stats import pearsonr"
   ]
  },
  {
   "cell_type": "code",
   "execution_count": 5,
   "metadata": {},
   "outputs": [
    {
     "name": "stdout",
     "output_type": "stream",
     "text": [
      "             ncd_1      ai_1   as_na_1      bl_1     nac_1  as_nac_1  \\\n",
      "ncd_1     1.000000  0.897422  0.889338  0.102502  0.997141  0.885031   \n",
      "ai_1      0.897422  1.000000  0.844026  0.112000  0.899486  0.758612   \n",
      "as_na_1   0.889338  0.844026  1.000000  0.111251  0.896361  0.958829   \n",
      "bl_1      0.102502  0.112000  0.111251  1.000000  0.104134  0.100963   \n",
      "nac_1     0.997141  0.899486  0.896361  0.104134  1.000000  0.888893   \n",
      "as_nac_1  0.885031  0.758612  0.958829  0.100963  0.888893  1.000000   \n",
      "cs_1      0.100844  0.110341  0.109900  0.991274  0.102902  0.099833   \n",
      "at_1      0.020632  0.026529  0.025772  0.201936  0.023788  0.023335   \n",
      "na_1      0.970894  0.950114  0.913863  0.109897  0.976217  0.852975   \n",
      "adl_1     0.017561  0.022973  0.023218  0.189700  0.022218  0.022044   \n",
      "nad_1     0.999995  0.897545  0.889694  0.102566  0.997308  0.885237   \n",
      "\n",
      "              cs_1      at_1      na_1     adl_1     nad_1  \n",
      "ncd_1     0.100844  0.020632  0.970894  0.017561  0.999995  \n",
      "ai_1      0.110341  0.026529  0.950114  0.022973  0.897545  \n",
      "as_na_1   0.109900  0.025772  0.913863  0.023218  0.889694  \n",
      "bl_1      0.991274  0.201936  0.109897  0.189700  0.102566  \n",
      "nac_1     0.102902  0.023788  0.976217  0.022218  0.997308  \n",
      "as_nac_1  0.099833  0.023335  0.852975  0.022044  0.885237  \n",
      "cs_1      1.000000  0.237154  0.108526  0.229273  0.100966  \n",
      "at_1      0.237154  1.000000  0.025358  0.989820  0.020822  \n",
      "na_1      0.108526  0.025358  1.000000  0.022686  0.971177  \n",
      "adl_1     0.229273  0.989820  0.022686  1.000000  0.017793  \n",
      "nad_1     0.100966  0.020822  0.971177  0.017793  1.000000  \n"
     ]
    }
   ],
   "source": [
    "#twitter_data.corr()\n",
    "newDF = pd.DataFrame() #creates a new dataframe that's empty\n",
    "\n",
    "for i in range(twitter_data.shape[1]-1):\n",
    "    if i%7 == 1 :\n",
    "        newDF[name[i]] = twitter_data[name[i]]\n",
    "#print(twitter_data['ncd_1'])\n",
    "print(newDF.corr())\n",
    "selected_fitur = ['ncd', 'ai', 'as_na', 'bl', 'nac', 'as_nac', 'cs', 'at', 'na', 'adl', 'nad'] #['ncd', 'cs', 'ai', 'as_na', 'as_nac', 'at', 'na','adl']\n",
    "unselected_fitur = ['nad','nac', 'bl']"
   ]
  },
  {
   "cell_type": "code",
   "execution_count": 6,
   "metadata": {},
   "outputs": [],
   "source": [
    "import seaborn as sns\n",
    "corr_martix=newDF.corr()\n",
    "sns.heatmap(corr_martix,cbar=True,annot=True,fmt='.1f',cmap='coolwarm');\n",
    "selected_fitur2 = ['ncd', 'ai', 'as_na', 'bl','adl'] #['ncd', 'cs', 'ai', 'as_na', 'as_nac', 'at', 'na','adl']\n",
    "unselected_fitur2 = ['nad','at','nac', 'na', 'as_nac', 'cs']"
   ]
  },
  {
   "cell_type": "code",
   "execution_count": 22,
   "metadata": {},
   "outputs": [
    {
     "name": "stdout",
     "output_type": "stream",
     "text": [
      "(140707, 36)\n"
     ]
    }
   ],
   "source": [
    "#selected_fitur = ['ncd', 'ai', 'as_na', 'bl', 'nac', 'as_nac', 'cs', 'at', 'na', 'adl', 'nad']\n",
    "selected_X = pd.DataFrame()\n",
    "selected_name = []\n",
    "\n",
    "for i in range(len(selected_fitur2)):\n",
    "    for j in range(len(days)):\n",
    "        selected_name.append(selected_fitur2[i]+\"_\"+str(days[j]))\n",
    "        selected_X[selected_fitur2[i]+\"_\"+str(days[j])] = twitter_data[selected_fitur2[i]+\"_\"+str(days[j])]\n",
    "\n",
    "selected_y = pd.DataFrame()\n",
    "selected_y['y'] = twitter_data['y']\n",
    "\n",
    "selected_data = selected_X\n",
    "\n",
    "selected_data['y'] = selected_y\n",
    "\n",
    "print(selected_data.shape)"
   ]
  },
  {
   "cell_type": "code",
   "execution_count": 27,
   "metadata": {},
   "outputs": [
    {
     "name": "stdout",
     "output_type": "stream",
     "text": [
      "(27775, 36)\n",
      "        ncd_0  ncd_1  ncd_2  ncd_3  ncd_4  ncd_5  ncd_6  ai_0  ai_1  ai_2  \\\n",
      "102178      8     14     10      7      6     15      9     4     9     8   \n",
      "3184        0      1      3      7      2      0      2     0     1     3   \n",
      "11052       5      3      3     16     71     48     57     4     2     3   \n",
      "60673     199    155    243    253    177    250    435    78    86    85   \n",
      "21652       0      3      0      3      2     13      0     0     3     0   \n",
      "\n",
      "       ...   bl_5      bl_6     adl_0     adl_1     adl_2     adl_3     adl_4  \\\n",
      "102178 ...    1.0  1.000000  1.000000  1.000000  1.000000  1.000000  1.000000   \n",
      "3184   ...    0.0  1.000000  0.000000  1.000000  1.000000  1.000000  1.000000   \n",
      "11052  ...    1.0  1.000000  1.000000  1.000000  1.000000  1.000000  1.000000   \n",
      "60673  ...    1.0  0.995423  1.015075  1.101911  1.078189  1.121094  1.127778   \n",
      "21652  ...    1.0  0.000000  0.000000  1.000000  0.000000  1.000000  1.000000   \n",
      "\n",
      "        adl_5     adl_6    y  \n",
      "102178  1.000  1.000000  0.0  \n",
      "3184    0.000  1.000000  0.0  \n",
      "11052   1.000  1.000000  0.0  \n",
      "60673   1.032  1.080091  0.0  \n",
      "21652   1.000  0.000000  0.0  \n",
      "\n",
      "[5 rows x 36 columns]\n",
      "(27775, 36)\n",
      "        ncd_0  ncd_1  ncd_2  ncd_3  ncd_4  ncd_5  ncd_6  ai_0  ai_1  ai_2  \\\n",
      "117033     30     39     37     39     42     46     49    28    37    37   \n",
      "98287       2      1      0      1      4      1      3     1     1     0   \n",
      "38890      63     57     36     38    106     79    104    31    28    23   \n",
      "87504      12      5      8      8      5     10     11    10     5     8   \n",
      "31361       0      1      3      1      0      5      1     0     1     2   \n",
      "\n",
      "       ...       bl_5      bl_6     adl_0     adl_1     adl_2     adl_3  \\\n",
      "117033 ...   1.000000  1.000000  1.033333  1.025641  1.054054  1.000000   \n",
      "98287  ...   1.000000  1.000000  1.000000  1.000000  0.000000  1.000000   \n",
      "38890  ...   0.975309  1.000000  2.546875  2.120690  1.783784  2.078947   \n",
      "87504  ...   0.909091  0.916667  1.000000  1.000000  1.000000  1.375000   \n",
      "31361  ...   1.000000  1.000000  0.000000  1.000000  1.000000  1.000000   \n",
      "\n",
      "           adl_4     adl_5     adl_6    y  \n",
      "117033  1.000000  1.043478  1.061224  0.0  \n",
      "98287   1.500000  1.000000  1.333333  0.0  \n",
      "38890   1.289720  2.086420  1.692308  0.0  \n",
      "87504   1.833333  1.636364  1.666667  0.0  \n",
      "31361   0.000000  1.000000  1.000000  0.0  \n",
      "\n",
      "[5 rows x 36 columns]\n",
      "(27775, 36)\n",
      "   ncd_0  ncd_1  ncd_2  ncd_3  ncd_4  ncd_5  ncd_6  ai_0  ai_1  ai_2 ...   \\\n",
      "0    889    939    960    805    805   1143   1121   549   613   587 ...    \n",
      "1    542    473    504    626    647    795    832   366   288   318 ...    \n",
      "3     90     87     92    344    184    848    184    83    78    76 ...    \n",
      "4    169     98    101     90     96     95    185   141    68    85 ...    \n",
      "5    775    765    935    806    912   1095   1198   614   588   751 ...    \n",
      "\n",
      "   bl_5  bl_6  adl_0  adl_1  adl_2  adl_3  adl_4  adl_5  adl_6    y  \n",
      "0   1.0   1.0    1.0    1.0    1.0    1.0    1.0    1.0    1.0  1.0  \n",
      "1   1.0   1.0    1.0    1.0    1.0    1.0    1.0    1.0    1.0  1.0  \n",
      "3   1.0   1.0    1.0    1.0    1.0    1.0    1.0    1.0    1.0  1.0  \n",
      "4   1.0   1.0    1.0    1.0    1.0    1.0    1.0    1.0    1.0  1.0  \n",
      "5   1.0   1.0    1.0    1.0    1.0    1.0    1.0    1.0    1.0  1.0  \n",
      "\n",
      "[5 rows x 36 columns]\n",
      "(55550, 36)\n",
      "        ncd_0  ncd_1  ncd_2  ncd_3  ncd_4  ncd_5  ncd_6  ai_0  ai_1  ai_2  \\\n",
      "117033     30     39     37     39     42     46     49    28    37    37   \n",
      "98287       2      1      0      1      4      1      3     1     1     0   \n",
      "38890      63     57     36     38    106     79    104    31    28    23   \n",
      "87504      12      5      8      8      5     10     11    10     5     8   \n",
      "31361       0      1      3      1      0      5      1     0     1     2   \n",
      "\n",
      "       ...       bl_5      bl_6     adl_0     adl_1     adl_2     adl_3  \\\n",
      "117033 ...   1.000000  1.000000  1.033333  1.025641  1.054054  1.000000   \n",
      "98287  ...   1.000000  1.000000  1.000000  1.000000  0.000000  1.000000   \n",
      "38890  ...   0.975309  1.000000  2.546875  2.120690  1.783784  2.078947   \n",
      "87504  ...   0.909091  0.916667  1.000000  1.000000  1.000000  1.375000   \n",
      "31361  ...   1.000000  1.000000  0.000000  1.000000  1.000000  1.000000   \n",
      "\n",
      "           adl_4     adl_5     adl_6    y  \n",
      "117033  1.000000  1.043478  1.061224  0.0  \n",
      "98287   1.500000  1.000000  1.333333  0.0  \n",
      "38890   1.289720  2.086420  1.692308  0.0  \n",
      "87504   1.833333  1.636364  1.666667  0.0  \n",
      "31361   0.000000  1.000000  1.000000  0.0  \n",
      "\n",
      "[5 rows x 36 columns]\n"
     ]
    }
   ],
   "source": [
    "selected_data_y0 = selected_data[selected_data.y == 0]\n",
    "print(selected_data_y0.shape)\n",
    "print(selected_data_y0.head())\n",
    "\n",
    "sample_selected_data_y0 = selected_data_y0.sample(n=27775)\n",
    "print(sample_selected_data_y0.shape)\n",
    "print(sample_selected_data_y0.head())\n",
    "\n",
    "selected_data_y1 = selected_data[selected_data.y == 1]\n",
    "print(selected_data_y1.shape)\n",
    "print(selected_data_y1.head())\n",
    "\n",
    "selected_data = pd.concat([sample_selected_data_y0, selected_data_y1])\n",
    "print(selected_data.shape)\n",
    "print(selected_data.head())\n",
    "\n",
    "selected_data.to_csv('RandomSampling.csv', float_format = '%.6f', index = False, header = True)"
   ]
  },
  {
   "cell_type": "code",
   "execution_count": null,
   "metadata": {},
   "outputs": [],
   "source": []
  }
 ],
 "metadata": {
  "kernelspec": {
   "display_name": "Python 3",
   "language": "python",
   "name": "python3"
  },
  "language_info": {
   "codemirror_mode": {
    "name": "ipython",
    "version": 3
   },
   "file_extension": ".py",
   "mimetype": "text/x-python",
   "name": "python",
   "nbconvert_exporter": "python",
   "pygments_lexer": "ipython3",
   "version": "3.7.1"
  }
 },
 "nbformat": 4,
 "nbformat_minor": 2
}
