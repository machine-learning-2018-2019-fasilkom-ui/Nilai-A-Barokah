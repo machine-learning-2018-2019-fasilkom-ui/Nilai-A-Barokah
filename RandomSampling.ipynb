{
 "cells": [
  {
   "cell_type": "markdown",
   "metadata": {
    "deletable": false,
    "editable": true
   },
   "source": [
    "# Tugas Akhir Machine Learning\n",
    "## Nilai A Barokah \n"
   ]
  },
  {
   "cell_type": "markdown",
   "metadata": {},
   "source": [
    "### 1. Data"
   ]
  },
  {
   "cell_type": "markdown",
   "metadata": {},
   "source": [
    "#### Preprocessing Data"
   ]
  },
  {
   "cell_type": "code",
   "execution_count": 1,
   "metadata": {},
   "outputs": [
    {
     "name": "stdout",
     "output_type": "stream",
     "text": [
      "(140707, 79)\n"
     ]
    }
   ],
   "source": [
    "import random\n",
    "import numpy as np\n",
    "import pandas as pd\n",
    "\n",
    "attribute_name = ['ncd', 'ai', 'as_na', 'bl', 'nac', 'as_nac', 'cs', 'at', 'na', 'adl', 'nad']\n",
    "days = [0, 1, 2, 3, 4, 5, 6]\n",
    "name = []\n",
    "\n",
    "#penamaan dari data\n",
    "name.append('index')\n",
    "\n",
    "for i in range(len(attribute_name)):\n",
    "    for j in range(len(days)):\n",
    "        name.append(attribute_name[i]+\"_\"+str(days[j]))\n",
    "\n",
    "name.append('label')\n",
    "\n",
    "#pembacaan data dari file csv\n",
    "#data berasal dari http://ama.liglab.fr/resourcestools/datasets/buzz-prediction-in-social-media/\n",
    "twitter_data = pd.read_csv('data_modif.csv', skiprows=[0], names = name)\n",
    "\n",
    "#mengetahui dimensi data\n",
    "print(twitter_data.shape)\n",
    "\n",
    "#5 baris data pertama\n",
    "#print(twitter_data.head(5))"
   ]
  },
  {
   "cell_type": "markdown",
   "metadata": {},
   "source": [
    "#### Descriptive Statistics"
   ]
  },
  {
   "cell_type": "code",
   "execution_count": 2,
   "metadata": {},
   "outputs": [
    {
     "name": "stdout",
     "output_type": "stream",
     "text": [
      "               index          ncd_0          ncd_1          ncd_2  \\\n",
      "count  140707.000000  140707.000000  140707.000000  140707.000000   \n",
      "mean    70354.000000     172.279823     155.150625     165.464476   \n",
      "std     40618.756501     509.872276     471.573236     495.360236   \n",
      "min         1.000000       0.000000       0.000000       0.000000   \n",
      "25%     35177.500000       3.000000       2.000000       3.000000   \n",
      "50%     70354.000000      22.000000      19.000000      20.000000   \n",
      "75%    105530.500000     125.000000     112.000000     119.000000   \n",
      "max    140707.000000   24210.000000   22899.000000   20495.000000   \n",
      "\n",
      "               ncd_3          ncd_4          ncd_5          ncd_6  \\\n",
      "count  140707.000000  140707.000000  140707.000000  140707.000000   \n",
      "mean      176.820549     186.937700     216.209208     243.866510   \n",
      "std       528.351277     560.331281     632.188378     707.402192   \n",
      "min         0.000000       0.000000       0.000000       0.000000   \n",
      "25%         3.000000       3.000000       4.000000       5.000000   \n",
      "50%        22.000000      23.000000      28.000000      33.000000   \n",
      "75%       126.000000     133.000000     161.000000     186.000000   \n",
      "max     27007.000000   30957.000000   28603.000000   37505.000000   \n",
      "\n",
      "                ai_0           ai_1      ...                adl_5  \\\n",
      "count  140707.000000  140707.000000      ...        140707.000000   \n",
      "mean       87.050154      78.639236      ...             1.113444   \n",
      "std       234.731748     218.448179      ...             1.374287   \n",
      "min         0.000000       0.000000      ...             0.000000   \n",
      "25%         2.000000       2.000000      ...             1.000000   \n",
      "50%        13.000000      11.000000      ...             1.000000   \n",
      "75%        70.000000      64.000000      ...             1.100000   \n",
      "max     15105.000000   15730.000000      ...           185.666672   \n",
      "\n",
      "               adl_6          nad_0          nad_1          nad_2  \\\n",
      "count  140707.000000  140707.000000  140707.000000  140707.000000   \n",
      "mean        1.196131     172.838807     155.630878     165.938674   \n",
      "std         1.826150     510.937549     472.462733     496.233557   \n",
      "min         0.000000       0.000000       0.000000       0.000000   \n",
      "25%         1.000000       3.000000       2.000000       3.000000   \n",
      "50%         1.000000      22.000000      19.000000      21.000000   \n",
      "75%         1.119048     126.000000     113.000000     119.000000   \n",
      "max       295.000000   24301.000000   22980.000000   20495.000000   \n",
      "\n",
      "               nad_3          nad_4          nad_5          nad_6  \\\n",
      "count  140707.000000  140707.000000  140707.000000  140707.000000   \n",
      "mean      177.314810     187.463794     216.776294     244.479194   \n",
      "std       529.286514     561.309487     633.203935     708.436795   \n",
      "min         0.000000       0.000000       0.000000       0.000000   \n",
      "25%         3.000000       3.000000       4.000000       6.000000   \n",
      "50%        22.000000      23.000000      28.000000      33.000000   \n",
      "75%       127.000000     134.000000     162.000000     187.000000   \n",
      "max     27071.000000   31028.000000   28697.000000   37505.000000   \n",
      "\n",
      "               label  \n",
      "count  140707.000000  \n",
      "mean        0.197396  \n",
      "std         0.398035  \n",
      "min         0.000000  \n",
      "25%         0.000000  \n",
      "50%         0.000000  \n",
      "75%         0.000000  \n",
      "max         1.000000  \n",
      "\n",
      "[8 rows x 79 columns]\n"
     ]
    }
   ],
   "source": [
    "#deskripsi statistik dimasukkan ke dalam file csv\n",
    "twitter_data.describe().transpose().to_csv('deskripsi_statistik.csv', sep=',')\n",
    "\n",
    "#deskripsi statistik\n",
    "print(twitter_data.describe())\n"
   ]
  },
  {
   "cell_type": "markdown",
   "metadata": {},
   "source": [
    "#### Pearson Correlation"
   ]
  },
  {
   "cell_type": "code",
   "execution_count": 3,
   "metadata": {},
   "outputs": [],
   "source": [
    "#pearson correlation dari masing-masing attribute\n",
    "\n"
   ]
  },
  {
   "cell_type": "markdown",
   "metadata": {},
   "source": [
    "#### Data Visualization"
   ]
  },
  {
   "cell_type": "markdown",
   "metadata": {},
   "source": [
    "##### - Histogram"
   ]
  },
  {
   "cell_type": "code",
   "execution_count": 4,
   "metadata": {},
   "outputs": [
    {
     "name": "stdout",
     "output_type": "stream",
     "text": [
      "[0, 1]\n",
      "[112932, 27775]\n"
     ]
    },
    {
     "data": {
      "text/plain": [
       "<Figure size 640x480 with 1 Axes>"
      ]
     },
     "metadata": {},
     "output_type": "display_data"
    }
   ],
   "source": [
    "import matplotlib.pyplot as plt\n",
    "\n",
    "label_x = [0,1]\n",
    "\n",
    "label_0 = 0\n",
    "label_1 = 0\n",
    "\n",
    "for i in range(len(twitter_data.label)):\n",
    "    if twitter_data.label[i] == 0:\n",
    "        label_0 += 1\n",
    "    elif twitter_data.label[i] == 1:\n",
    "        label_1 += 1\n",
    "\n",
    "label_y = [label_0, label_1]\n",
    "        \n",
    "print(label_x)\n",
    "print(label_y)\n",
    "        \n",
    "plt.bar(label_x, label_y, label=\"Label\", color='b')\n",
    "plt.xlabel('Target 0          -          Target 1')\n",
    "plt.ylabel('Frekuensi')\n",
    "plt.title('Histogram Prediction Target')\n",
    "plt.show()    "
   ]
  },
  {
   "cell_type": "markdown",
   "metadata": {},
   "source": [
    "##### - Attribute Plot"
   ]
  },
  {
   "cell_type": "raw",
   "metadata": {},
   "source": [
    "import matplotlib.pyplot as plt\n",
    "import statistics\n",
    "from statistics import mean\n",
    "\n",
    "average = [0,0,0,0,0,0,0]\n",
    "hari = [1,2,3,4,5,6,7]\n",
    "\n",
    "ncd = [twitter_data.ncd_0, twitter_data.ncd_1, twitter_data.ncd_2, twitter_data.ncd_3, twitter_data.ncd_4, twitter_data.ncd_5, twitter_data.ncd_6]\n",
    "ai = [twitter_data.ai_0, twitter_data.ai_1, twitter_data.ai_2, twitter_data.ai_3, twitter_data.ai_4, twitter_data.ai_5, twitter_data.ai_6]\n",
    "as_na = [twitter_data.as_na_0, twitter_data.as_na_1, twitter_data.as_na_2, twitter_data.as_na_3, twitter_data.as_na_4, twitter_data.as_na_5, twitter_data.as_na_6]\n",
    "bl = [twitter_data.bl_0, twitter_data.bl_1, twitter_data.bl_2, twitter_data.bl_3, twitter_data.bl_4, twitter_data.bl_5, twitter_data.bl_6]\n",
    "adl = [twitter_data.adl_0, twitter_data.adl_1, twitter_data.adl_2, twitter_data.adl_3, twitter_data.adl_4, twitter_data.adl_5, twitter_data.adl_6]\n",
    "\n",
    "for i in range(7): \n",
    "    average[i] = statistics.mean(ncd[i])\n",
    "    \n",
    "plt.plot(hari, average)\n",
    "plt.title('Number of Created Discussions (NCD)')\n",
    "plt.show()\n",
    "\n",
    "average = [0,0,0,0,0,0,0]\n",
    "    \n",
    "for i in range(7): \n",
    "    average[i] = statistics.mean(ai[i])\n",
    "    \n",
    "plt.plot(hari, average)\n",
    "plt.title('Author Increase (AI)')\n",
    "plt.show()\n",
    "\n",
    "average = [0,0,0,0,0,0,0]\n",
    "\n",
    "for i in range(7): \n",
    "    average[i] = statistics.mean(as_na[i])\n",
    "\n",
    "plt.plot(hari, average)\n",
    "plt.title('Attention Level (AS_NA)')\n",
    "plt.show()\n",
    "\n",
    "average = [0,0,0,0,0,0,0]\n",
    "\n",
    "for i in range(7): \n",
    "    average[i] = statistics.mean(bl[i])\n",
    "    \n",
    "plt.plot(hari, average)\n",
    "plt.title('Burstiness Level (BL)')\n",
    "plt.show()\n",
    "\n",
    "average = [0,0,0,0,0,0,0]\n",
    "    \n",
    "for i in range(7): \n",
    "    average[i] = statistics.mean(adl[i])\n",
    "    \n",
    "plt.plot(hari, average)\n",
    "plt.title('Average Discussions Length (ADL)')\n",
    "plt.show()"
   ]
  },
  {
   "cell_type": "markdown",
   "metadata": {},
   "source": [
    "#### Random Sampling of Data with Label = 0"
   ]
  },
  {
   "cell_type": "code",
   "execution_count": 31,
   "metadata": {},
   "outputs": [
    {
     "name": "stdout",
     "output_type": "stream",
     "text": [
      "(27775, 79)\n",
      "(27775, 79)\n",
      "(55550, 79)\n",
      "         index  ncd_0  ncd_1  ncd_2  ncd_3  ncd_4  ncd_5  ncd_6  ai_0  ai_1  \\\n",
      "20676    20677     10     11      6      7      7     13      9    10    12   \n",
      "9433      9434     98     93     81     84     97    117    116    81    68   \n",
      "12044    12045      1      3      2      1      3      3      2     1     3   \n",
      "45414    45415     17     22     13     20     14     42     18    15    15   \n",
      "33420    33421    199    270    236      5    318    327    324   186   245   \n",
      "92069    92070    114    132    118    120    164    154    145    37    63   \n",
      "88790    88791      0      1      2      3      3      0      1     0     1   \n",
      "125896  125897      3      6      4     13     40     17     11     2     5   \n",
      "122902  122903     63     47     51     53     66     62     89    43    41   \n",
      "54343    54344      0      1      0      0      0      2      0     0     1   \n",
      "29946    29947     48     50     73     45     67     85     67    35    43   \n",
      "79035    79036      3      1      1      4      1      3      1     2     1   \n",
      "111363  111364     39     45     39     28    259     95     56    27    30   \n",
      "37076    37077     18     46     20     25     18     18     59    10    16   \n",
      "105353  105354      0      3      4      1      2      3      3     0     3   \n",
      "95907    95908     90    116    137     84    166    108    171    74    95   \n",
      "138065  138066     17     16     20     22     19     16     33    10    11   \n",
      "140427  140428      2      0      0      0      2      0      2     1     0   \n",
      "84260    84261     14     18      4     31     16     24     31    11    14   \n",
      "39787    39788      4      4      5      2      2      0      2     2     3   \n",
      "91608    91609      4      4     11     10     12      8     13     4     4   \n",
      "107771  107772     62     44     54     81     50     37     60    48    30   \n",
      "110588  110589      2      2      2      5      2      0      6     2     2   \n",
      "14636    14637     74     55     76    101    117     25    104    59    41   \n",
      "74301    74302     12     29     13     20      9     17     14     6    17   \n",
      "125196  125197      0      1      2      1      0      0      2     0     1   \n",
      "79043    79044      3      0      4      6      3      3      5     2     0   \n",
      "28785    28786     28     15     25     26     14     65     93    23    12   \n",
      "88986    88987      2      3      2      4      4      1      5     2     3   \n",
      "34088    34089     35     27     21     32     30     36     41    19    17   \n",
      "...        ...    ...    ...    ...    ...    ...    ...    ...   ...   ...   \n",
      "140590  140591    422    401   1215    247    246    408    528   278   217   \n",
      "140591  140592    156    175    256    304    231    281    242    90   101   \n",
      "140592  140593    210    222    412    229    279    224    243   130   135   \n",
      "140593  140594    214    204    206    267    221    298    256   134   114   \n",
      "140594  140595    412    328    266    271    400    355    735   205   175   \n",
      "140595  140596    407    302    282    251    333    448    367   193   159   \n",
      "140596  140597    438    298    315    400    848    353    281   209   171   \n",
      "140597  140598    378    254    249    226    326    609    426   223   166   \n",
      "140598  140599    395    343    400    301    354    369    475   241   212   \n",
      "140599  140600    364    396    374    342    386    306    468   180   219   \n",
      "140600  140601    361    294    285    318    427    338    470   164   155   \n",
      "140601  140602    522      7    330    401    385    486    406   307     4   \n",
      "140602  140603    435    418    448    335    386    296   2637   198   181   \n",
      "140603  140604    245    274    422    378    270    276    314   129   125   \n",
      "140604  140605    414    416    409    442    381    472    479   199   197   \n",
      "140605  140606    561    404    405    357    372    537    573   256   216   \n",
      "140606  140607    381    283    417    304    300    442    396   173   149   \n",
      "140607  140608    317    307    365    514   1470   1558    595   157   146   \n",
      "140608  140609    333    479    653    674    596    557    560   145   184   \n",
      "140609  140610    613      0    770    694    417    651    637   284     0   \n",
      "140642  140643     25     25     37     32     69    118     74    21    20   \n",
      "140643  140644     38     24    435     72     73    124     92    37    50   \n",
      "140699  140700    435    349    386    317    325    441    511   231   173   \n",
      "140700  140701    363    329    414    514    533    486    417   168   167   \n",
      "140701  140702    379   1409   1379   1466   1299   1316   1373   183   705   \n",
      "140702  140703   1700   1386   1364   1437   1627   2040   1736   697   579   \n",
      "140703  140704   1280   1725    758     66   1254   1146   1353   493   527   \n",
      "140704  140705   1128   1190   1273   1250   1302   1575   1490   403   480   \n",
      "140705  140706   1228   1343   1999   1789   1643   1626   2582   487   506   \n",
      "140706  140707   1689   1468      0   1721   1699   1565   1688   618   610   \n",
      "\n",
      "        ...        adl_5      adl_6  nad_0  nad_1  nad_2  nad_3  nad_4  nad_5  \\\n",
      "20676   ...     1.000000   1.333333     10     11      6      7      7     13   \n",
      "9433    ...     1.000000   1.000000     98     93     81     84     97    117   \n",
      "12044   ...     1.000000   1.000000      1      3      2      1      3      3   \n",
      "45414   ...     1.023810   1.444444     17     22     13     20     14     42   \n",
      "33420   ...     1.174312   1.350769    201    271    236      5    318    327   \n",
      "92069   ...     1.000000   1.000000    114    132    118    120    164    154   \n",
      "88790   ...     0.000000   1.000000      0      1      2      3      3      0   \n",
      "125896  ...     1.000000   1.000000      3      6      4     13     40     17   \n",
      "122902  ...     1.000000   1.078652     63     47     52     54     67     62   \n",
      "54343   ...     1.000000   0.000000      0      1      0      0      0      2   \n",
      "29946   ...     1.000000   1.000000     48     50     73     45     67     85   \n",
      "79035   ...     1.000000   1.000000      3      1      1      4      1      3   \n",
      "111363  ...     1.791667   1.877193     39     45     41     28    259     96   \n",
      "37076   ...     1.000000   1.000000     18     46     20     25     18     18   \n",
      "105353  ...     1.000000   1.000000      0      3      4      1      2      3   \n",
      "95907   ...     1.000000   1.000000     90    116    137     84    166    108   \n",
      "138065  ...     1.000000   1.000000     17     16     20     22     19     16   \n",
      "140427  ...     0.000000   1.000000      2      0      0      0      2      0   \n",
      "84260   ...     1.000000   1.000000     14     18      4     31     16     24   \n",
      "39787   ...     0.000000   5.500000      4      5      5      2      2      0   \n",
      "91608   ...     1.000000   1.000000      4      4     11     10     12      8   \n",
      "107771  ...     3.684211   4.081967     63     44     54     82     50     38   \n",
      "110588  ...     0.000000   1.000000      2      2      2      5      2      0   \n",
      "14636   ...     1.000000   1.000000     74     55     76    101    117     25   \n",
      "74301   ...     3.235294   3.866667     12     29     13     20      9     17   \n",
      "125196  ...     0.000000   1.000000      0      1      2      1      0      0   \n",
      "79043   ...     1.000000   1.000000      3      0      5      6      3      3   \n",
      "28785   ...     1.076923   1.032258     28     16     25     26     15     65   \n",
      "88986   ...     1.000000   1.000000      2      3      2      4      4      1   \n",
      "34088   ...     1.054054   1.512195     35     27     21     32     31     37   \n",
      "...     ...          ...        ...    ...    ...    ...    ...    ...    ...   \n",
      "140590  ...     1.000000   1.000000    422    401   1215    247    246    408   \n",
      "140591  ...     1.000000   1.000000    156    175    256    304    231    281   \n",
      "140592  ...     1.000000   1.000000    210    222    412    229    279    224   \n",
      "140593  ...     1.000000   1.000000    214    204    206    267    221    298   \n",
      "140594  ...     1.000000   1.000000    412    328    266    271    400    355   \n",
      "140595  ...     1.000000   1.000000    407    302    282    251    333    448   \n",
      "140596  ...     1.195531   1.267606    438    299    315    404    849    358   \n",
      "140597  ...     1.178396   1.213457    381    259    250    228    326    611   \n",
      "140598  ...     1.742021   1.695021    403    349    405    303    356    376   \n",
      "140599  ...     1.766234   2.120000    366    404    379    350    387    308   \n",
      "140600  ...     1.625000   1.510593    364    299    288    323    430    344   \n",
      "140601  ...     1.689024   1.385366    522      8    330    406    387    492   \n",
      "140602  ...     1.419142   1.088737    442    421    452    337    388    303   \n",
      "140603  ...     1.189964   1.194268    245    276    426    379    275    279   \n",
      "140604  ...     1.392484   1.593814    419    421    411    444    385    479   \n",
      "140605  ...     1.437848   1.438475    564    407    408    363    374    539   \n",
      "140606  ...     1.345372   1.483709    385    287    420    309    304    443   \n",
      "140607  ...     1.166667   1.393688    319    312    370    520   1473   1560   \n",
      "140608  ...     1.313725   1.320423    339    482    656    676    597    561   \n",
      "140609  ...     1.278963   1.358696    622      0    772    702    423    656   \n",
      "140642  ...     5.840336  13.723684     25     26     37     32     69    119   \n",
      "140643  ...    21.600000  35.447918     38     25    436     73     74    125   \n",
      "140699  ...     1.000000   1.000000    435    349    386    317    325    441   \n",
      "140700  ...     1.000000   1.000000    363    329    414    514    533    486   \n",
      "140701  ...     1.000000   1.000000    379   1409   1379   1466   1299   1316   \n",
      "140702  ...     1.000490   1.000000   1700   1386   1364   1437   1627   2040   \n",
      "140703  ...     1.211255   1.197940   1287   1735    759     67   1257   1155   \n",
      "140704  ...     1.174242   1.207610   1135   1200   1284   1256   1316   1584   \n",
      "140705  ...     1.185776   1.217879   1240   1352   2006   1797   1651   1631   \n",
      "140706  ...     1.129936   1.100945   1702   1478      0   1722   1702   1570   \n",
      "\n",
      "        nad_6  label  \n",
      "20676       9      0  \n",
      "9433      116      0  \n",
      "12044       2      0  \n",
      "45414      18      0  \n",
      "33420     325      0  \n",
      "92069     145      0  \n",
      "88790       1      0  \n",
      "125896     11      0  \n",
      "122902     89      0  \n",
      "54343       0      0  \n",
      "29946      67      0  \n",
      "79035       1      0  \n",
      "111363     57      0  \n",
      "37076      59      0  \n",
      "105353      3      0  \n",
      "95907     171      0  \n",
      "138065     33      0  \n",
      "140427      2      0  \n",
      "84260      31      0  \n",
      "39787       2      0  \n",
      "91608      13      0  \n",
      "107771     61      0  \n",
      "110588      6      0  \n",
      "14636     104      0  \n",
      "74301      15      0  \n",
      "125196      2      0  \n",
      "79043       5      0  \n",
      "28785      93      0  \n",
      "88986       5      0  \n",
      "34088      41      0  \n",
      "...       ...    ...  \n",
      "140590    528      1  \n",
      "140591    242      1  \n",
      "140592    243      1  \n",
      "140593    256      1  \n",
      "140594    735      1  \n",
      "140595    367      1  \n",
      "140596    284      1  \n",
      "140597    431      1  \n",
      "140598    482      1  \n",
      "140599    475      1  \n",
      "140600    472      1  \n",
      "140601    410      1  \n",
      "140602   2637      1  \n",
      "140603    314      1  \n",
      "140604    485      1  \n",
      "140605    577      1  \n",
      "140606    399      1  \n",
      "140607    602      1  \n",
      "140608    568      1  \n",
      "140609    644      1  \n",
      "140642     76      1  \n",
      "140643     96      1  \n",
      "140699    511      1  \n",
      "140700    417      1  \n",
      "140701   1373      1  \n",
      "140702   1736      1  \n",
      "140703   1359      1  \n",
      "140704   1498      1  \n",
      "140705   2584      1  \n",
      "140706   1694      1  \n",
      "\n",
      "[55550 rows x 79 columns]\n"
     ]
    }
   ],
   "source": [
    "\n",
    "twitter_data_label0 = twitter_data[twitter_data.label == 0]\n",
    "#print(twitter_data_label0.shape)\n",
    "#print(twitter_data_label0.head(5))\n",
    "\n",
    "sample_twitter_data_label0 = twitter_data_l0.sample(n=27775)\n",
    "print(sample_twitter_data_label0.shape)\n",
    "#print(sample_twitter_data_label0.head(5))\n",
    "\n",
    "twitter_data_label1 = twitter_data[twitter_data.label == 1]\n",
    "print(twitter_data_label1.shape)\n",
    "#print(twitter_data_label1.head(5))\n",
    "\n",
    "twitter_data = pd.concat([sample_twitter_data_label0, twitter_data_label1])\n",
    "print(twitter_data.shape)\n",
    "print(twitter_data)"
   ]
  },
  {
   "cell_type": "markdown",
   "metadata": {},
   "source": [
    "### 2. Decision Tree Algorithm"
   ]
  },
  {
   "cell_type": "code",
   "execution_count": null,
   "metadata": {},
   "outputs": [],
   "source": []
  },
  {
   "cell_type": "markdown",
   "metadata": {},
   "source": [
    "#### 2.a Lazy DT"
   ]
  },
  {
   "cell_type": "code",
   "execution_count": null,
   "metadata": {},
   "outputs": [],
   "source": []
  },
  {
   "cell_type": "markdown",
   "metadata": {},
   "source": [
    "#### 2.b Eager DT"
   ]
  },
  {
   "cell_type": "code",
   "execution_count": null,
   "metadata": {},
   "outputs": [],
   "source": []
  },
  {
   "cell_type": "markdown",
   "metadata": {},
   "source": [
    "### 3. Stacking Classifier"
   ]
  },
  {
   "cell_type": "code",
   "execution_count": null,
   "metadata": {},
   "outputs": [],
   "source": []
  }
 ],
 "metadata": {
  "kernelspec": {
   "display_name": "Python 3",
   "language": "python",
   "name": "python3"
  },
  "language_info": {
   "codemirror_mode": {
    "name": "ipython",
    "version": 3
   },
   "file_extension": ".py",
   "mimetype": "text/x-python",
   "name": "python",
   "nbconvert_exporter": "python",
   "pygments_lexer": "ipython3",
   "version": "3.7.1"
  }
 },
 "nbformat": 4,
 "nbformat_minor": 2
}
